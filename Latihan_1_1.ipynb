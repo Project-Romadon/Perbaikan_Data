{
 "cells": [
  {
   "attachments": {},
   "cell_type": "markdown",
   "metadata": {},
   "source": [
    "#### Data Quality Check"
   ]
  },
  {
   "attachments": {},
   "cell_type": "markdown",
   "metadata": {},
   "source": [
    "* Q1 : Apakah ada features yang data type-nya tidak sesuai?\n",
    "* Q2 : Adakah duplicate, missing values atau outliers? bagaimana mengatasi hal-hal tersebut?\n",
    "* Q3 : Apakah terdapat distribusi yang tidak masuk akal?"
   ]
  },
  {
   "attachments": {},
   "cell_type": "markdown",
   "metadata": {},
   "source": [
    "##### Import library"
   ]
  },
  {
   "cell_type": "code",
   "execution_count": 150,
   "metadata": {},
   "outputs": [],
   "source": [
    "import pandas as pd\n",
    "import numpy as np\n",
    "import matplotlib.pyplot as plt\n",
    "import seaborn as sns\n",
    "\n",
    "pd.set_option('display.max_columns',None)\n",
    "sns.set_context('notebook')\n",
    "sns.set_style('whitegrid')\n",
    "sns.set_palette('Spectral')\n",
    "\n",
    "import warnings\n",
    "warnings.filterwarnings('ignore')"
   ]
  },
  {
   "attachments": {},
   "cell_type": "markdown",
   "metadata": {},
   "source": [
    "##### Panggil path data"
   ]
  },
  {
   "cell_type": "code",
   "execution_count": 151,
   "metadata": {},
   "outputs": [],
   "source": [
    "df = pd.read_csv('../data/Boston Incidents 2016-2022/2015.csv')"
   ]
  },
  {
   "attachments": {},
   "cell_type": "markdown",
   "metadata": {},
   "source": [
    "##### lihat 5 isi dari data"
   ]
  },
  {
   "cell_type": "code",
   "execution_count": 152,
   "metadata": {},
   "outputs": [
    {
     "data": {
      "text/html": [
       "<div>\n",
       "<style scoped>\n",
       "    .dataframe tbody tr th:only-of-type {\n",
       "        vertical-align: middle;\n",
       "    }\n",
       "\n",
       "    .dataframe tbody tr th {\n",
       "        vertical-align: top;\n",
       "    }\n",
       "\n",
       "    .dataframe thead th {\n",
       "        text-align: right;\n",
       "    }\n",
       "</style>\n",
       "<table border=\"1\" class=\"dataframe\">\n",
       "  <thead>\n",
       "    <tr style=\"text-align: right;\">\n",
       "      <th></th>\n",
       "      <th>INCIDENT_NUMBER</th>\n",
       "      <th>OFFENSE_CODE</th>\n",
       "      <th>OFFENSE_CODE_GROUP</th>\n",
       "      <th>OFFENSE_DESCRIPTION</th>\n",
       "      <th>DISTRICT</th>\n",
       "      <th>REPORTING_AREA</th>\n",
       "      <th>SHOOTING</th>\n",
       "      <th>OCCURRED_ON_DATE</th>\n",
       "      <th>YEAR</th>\n",
       "      <th>MONTH</th>\n",
       "      <th>DAY_OF_WEEK</th>\n",
       "      <th>HOUR</th>\n",
       "      <th>UCR_PART</th>\n",
       "      <th>STREET</th>\n",
       "      <th>Lat</th>\n",
       "      <th>Long</th>\n",
       "      <th>Location</th>\n",
       "    </tr>\n",
       "  </thead>\n",
       "  <tbody>\n",
       "    <tr>\n",
       "      <th>0</th>\n",
       "      <td>I172040657</td>\n",
       "      <td>2629</td>\n",
       "      <td>Harassment</td>\n",
       "      <td>HARASSMENT</td>\n",
       "      <td>C11</td>\n",
       "      <td>397</td>\n",
       "      <td>NaN</td>\n",
       "      <td>2015-06-15 00:00:00</td>\n",
       "      <td>2015</td>\n",
       "      <td>6</td>\n",
       "      <td>Monday</td>\n",
       "      <td>0</td>\n",
       "      <td>Part Two</td>\n",
       "      <td>MELBOURNE ST</td>\n",
       "      <td>42.291093</td>\n",
       "      <td>-71.065945</td>\n",
       "      <td>(42.29109287, -71.06594539)</td>\n",
       "    </tr>\n",
       "    <tr>\n",
       "      <th>1</th>\n",
       "      <td>I182061268</td>\n",
       "      <td>3201</td>\n",
       "      <td>Property Lost</td>\n",
       "      <td>PROPERTY - LOST</td>\n",
       "      <td>NaN</td>\n",
       "      <td></td>\n",
       "      <td>NaN</td>\n",
       "      <td>2015-06-15 00:00:00</td>\n",
       "      <td>2015</td>\n",
       "      <td>6</td>\n",
       "      <td>Monday</td>\n",
       "      <td>0</td>\n",
       "      <td>Part Three</td>\n",
       "      <td>BERNARD</td>\n",
       "      <td>NaN</td>\n",
       "      <td>NaN</td>\n",
       "      <td>NaN</td>\n",
       "    </tr>\n",
       "    <tr>\n",
       "      <th>2</th>\n",
       "      <td>I162013546</td>\n",
       "      <td>3201</td>\n",
       "      <td>Property Lost</td>\n",
       "      <td>PROPERTY - LOST</td>\n",
       "      <td>B3</td>\n",
       "      <td>433</td>\n",
       "      <td>NaN</td>\n",
       "      <td>2015-06-15 00:00:00</td>\n",
       "      <td>2015</td>\n",
       "      <td>6</td>\n",
       "      <td>Monday</td>\n",
       "      <td>0</td>\n",
       "      <td>Part Three</td>\n",
       "      <td>NORFOLK ST</td>\n",
       "      <td>42.283634</td>\n",
       "      <td>-71.082813</td>\n",
       "      <td>(42.28363434, -71.08281320)</td>\n",
       "    </tr>\n",
       "    <tr>\n",
       "      <th>3</th>\n",
       "      <td>I152051083</td>\n",
       "      <td>3115</td>\n",
       "      <td>Investigate Person</td>\n",
       "      <td>INVESTIGATE PERSON</td>\n",
       "      <td>A7</td>\n",
       "      <td>20</td>\n",
       "      <td>NaN</td>\n",
       "      <td>2015-06-15 00:00:00</td>\n",
       "      <td>2015</td>\n",
       "      <td>6</td>\n",
       "      <td>Monday</td>\n",
       "      <td>0</td>\n",
       "      <td>Part Three</td>\n",
       "      <td>PARIS ST</td>\n",
       "      <td>42.377023</td>\n",
       "      <td>-71.032247</td>\n",
       "      <td>(42.37702319, -71.03224730)</td>\n",
       "    </tr>\n",
       "    <tr>\n",
       "      <th>4</th>\n",
       "      <td>I152059178</td>\n",
       "      <td>2647</td>\n",
       "      <td>Other</td>\n",
       "      <td>THREATS TO DO BODILY HARM</td>\n",
       "      <td>C11</td>\n",
       "      <td>359</td>\n",
       "      <td>NaN</td>\n",
       "      <td>2015-06-15 00:00:00</td>\n",
       "      <td>2015</td>\n",
       "      <td>6</td>\n",
       "      <td>Monday</td>\n",
       "      <td>0</td>\n",
       "      <td>Part Two</td>\n",
       "      <td>WASHINGTON ST</td>\n",
       "      <td>42.293606</td>\n",
       "      <td>-71.071887</td>\n",
       "      <td>(42.29360585, -71.07188650)</td>\n",
       "    </tr>\n",
       "  </tbody>\n",
       "</table>\n",
       "</div>"
      ],
      "text/plain": [
       "  INCIDENT_NUMBER  OFFENSE_CODE  OFFENSE_CODE_GROUP  \\\n",
       "0      I172040657          2629          Harassment   \n",
       "1      I182061268          3201       Property Lost   \n",
       "2      I162013546          3201       Property Lost   \n",
       "3      I152051083          3115  Investigate Person   \n",
       "4      I152059178          2647               Other   \n",
       "\n",
       "         OFFENSE_DESCRIPTION DISTRICT REPORTING_AREA SHOOTING  \\\n",
       "0                 HARASSMENT      C11            397      NaN   \n",
       "1            PROPERTY - LOST      NaN                     NaN   \n",
       "2            PROPERTY - LOST       B3            433      NaN   \n",
       "3         INVESTIGATE PERSON       A7             20      NaN   \n",
       "4  THREATS TO DO BODILY HARM      C11            359      NaN   \n",
       "\n",
       "      OCCURRED_ON_DATE  YEAR  MONTH DAY_OF_WEEK  HOUR    UCR_PART  \\\n",
       "0  2015-06-15 00:00:00  2015      6      Monday     0    Part Two   \n",
       "1  2015-06-15 00:00:00  2015      6      Monday     0  Part Three   \n",
       "2  2015-06-15 00:00:00  2015      6      Monday     0  Part Three   \n",
       "3  2015-06-15 00:00:00  2015      6      Monday     0  Part Three   \n",
       "4  2015-06-15 00:00:00  2015      6      Monday     0    Part Two   \n",
       "\n",
       "          STREET        Lat       Long                     Location  \n",
       "0   MELBOURNE ST  42.291093 -71.065945  (42.29109287, -71.06594539)  \n",
       "1        BERNARD        NaN        NaN                          NaN  \n",
       "2     NORFOLK ST  42.283634 -71.082813  (42.28363434, -71.08281320)  \n",
       "3       PARIS ST  42.377023 -71.032247  (42.37702319, -71.03224730)  \n",
       "4  WASHINGTON ST  42.293606 -71.071887  (42.29360585, -71.07188650)  "
      ]
     },
     "execution_count": 152,
     "metadata": {},
     "output_type": "execute_result"
    }
   ],
   "source": [
    "df.head()"
   ]
  },
  {
   "attachments": {},
   "cell_type": "markdown",
   "metadata": {},
   "source": [
    "##### Check duplikat data"
   ]
  },
  {
   "cell_type": "code",
   "execution_count": 153,
   "metadata": {},
   "outputs": [
    {
     "data": {
      "text/plain": [
       "0        False\n",
       "1        False\n",
       "2        False\n",
       "3        False\n",
       "4        False\n",
       "         ...  \n",
       "53592    False\n",
       "53593    False\n",
       "53594    False\n",
       "53595    False\n",
       "53596    False\n",
       "Length: 53597, dtype: bool"
      ]
     },
     "execution_count": 153,
     "metadata": {},
     "output_type": "execute_result"
    }
   ],
   "source": [
    "duplicates = df.duplicated()\n",
    "duplicates"
   ]
  },
  {
   "attachments": {},
   "cell_type": "markdown",
   "metadata": {},
   "source": [
    "##### Tipe data tiap variabel"
   ]
  },
  {
   "cell_type": "code",
   "execution_count": 154,
   "metadata": {},
   "outputs": [
    {
     "name": "stdout",
     "output_type": "stream",
     "text": [
      "<class 'pandas.core.frame.DataFrame'>\n",
      "RangeIndex: 53597 entries, 0 to 53596\n",
      "Data columns (total 17 columns):\n",
      " #   Column               Non-Null Count  Dtype  \n",
      "---  ------               --------------  -----  \n",
      " 0   INCIDENT_NUMBER      53597 non-null  object \n",
      " 1   OFFENSE_CODE         53597 non-null  int64  \n",
      " 2   OFFENSE_CODE_GROUP   53597 non-null  object \n",
      " 3   OFFENSE_DESCRIPTION  53597 non-null  object \n",
      " 4   DISTRICT             53468 non-null  object \n",
      " 5   REPORTING_AREA       53597 non-null  object \n",
      " 6   SHOOTING             251 non-null    object \n",
      " 7   OCCURRED_ON_DATE     53597 non-null  object \n",
      " 8   YEAR                 53597 non-null  int64  \n",
      " 9   MONTH                53597 non-null  int64  \n",
      " 10  DAY_OF_WEEK          53597 non-null  object \n",
      " 11  HOUR                 53597 non-null  int64  \n",
      " 12  UCR_PART             53595 non-null  object \n",
      " 13  STREET               52325 non-null  object \n",
      " 14  Lat                  51425 non-null  float64\n",
      " 15  Long                 51425 non-null  float64\n",
      " 16  Location             51425 non-null  object \n",
      "dtypes: float64(2), int64(4), object(11)\n",
      "memory usage: 7.0+ MB\n"
     ]
    }
   ],
   "source": [
    "df.info()"
   ]
  },
  {
   "cell_type": "code",
   "execution_count": 155,
   "metadata": {},
   "outputs": [
    {
     "data": {
      "text/html": [
       "<div>\n",
       "<style scoped>\n",
       "    .dataframe tbody tr th:only-of-type {\n",
       "        vertical-align: middle;\n",
       "    }\n",
       "\n",
       "    .dataframe tbody tr th {\n",
       "        vertical-align: top;\n",
       "    }\n",
       "\n",
       "    .dataframe thead th {\n",
       "        text-align: right;\n",
       "    }\n",
       "</style>\n",
       "<table border=\"1\" class=\"dataframe\">\n",
       "  <thead>\n",
       "    <tr style=\"text-align: right;\">\n",
       "      <th></th>\n",
       "      <th>INCIDENT_NUMBER</th>\n",
       "      <th>OFFENSE_CODE</th>\n",
       "      <th>OFFENSE_CODE_GROUP</th>\n",
       "      <th>OFFENSE_DESCRIPTION</th>\n",
       "      <th>DISTRICT</th>\n",
       "      <th>REPORTING_AREA</th>\n",
       "      <th>SHOOTING</th>\n",
       "      <th>OCCURRED_ON_DATE</th>\n",
       "      <th>YEAR</th>\n",
       "      <th>MONTH</th>\n",
       "      <th>DAY_OF_WEEK</th>\n",
       "      <th>HOUR</th>\n",
       "      <th>UCR_PART</th>\n",
       "      <th>STREET</th>\n",
       "      <th>Lat</th>\n",
       "      <th>Long</th>\n",
       "      <th>Location</th>\n",
       "    </tr>\n",
       "  </thead>\n",
       "  <tbody>\n",
       "    <tr>\n",
       "      <th>0</th>\n",
       "      <td>I172040657</td>\n",
       "      <td>2629</td>\n",
       "      <td>Harassment</td>\n",
       "      <td>HARASSMENT</td>\n",
       "      <td>C11</td>\n",
       "      <td>397</td>\n",
       "      <td>NaN</td>\n",
       "      <td>2015-06-15 00:00:00</td>\n",
       "      <td>2015</td>\n",
       "      <td>6</td>\n",
       "      <td>Monday</td>\n",
       "      <td>0</td>\n",
       "      <td>Part Two</td>\n",
       "      <td>MELBOURNE ST</td>\n",
       "      <td>42.291093</td>\n",
       "      <td>-71.065945</td>\n",
       "      <td>(42.29109287, -71.06594539)</td>\n",
       "    </tr>\n",
       "    <tr>\n",
       "      <th>1</th>\n",
       "      <td>I182061268</td>\n",
       "      <td>3201</td>\n",
       "      <td>Property Lost</td>\n",
       "      <td>PROPERTY - LOST</td>\n",
       "      <td>NaN</td>\n",
       "      <td></td>\n",
       "      <td>NaN</td>\n",
       "      <td>2015-06-15 00:00:00</td>\n",
       "      <td>2015</td>\n",
       "      <td>6</td>\n",
       "      <td>Monday</td>\n",
       "      <td>0</td>\n",
       "      <td>Part Three</td>\n",
       "      <td>BERNARD</td>\n",
       "      <td>NaN</td>\n",
       "      <td>NaN</td>\n",
       "      <td>NaN</td>\n",
       "    </tr>\n",
       "    <tr>\n",
       "      <th>2</th>\n",
       "      <td>I162013546</td>\n",
       "      <td>3201</td>\n",
       "      <td>Property Lost</td>\n",
       "      <td>PROPERTY - LOST</td>\n",
       "      <td>B3</td>\n",
       "      <td>433</td>\n",
       "      <td>NaN</td>\n",
       "      <td>2015-06-15 00:00:00</td>\n",
       "      <td>2015</td>\n",
       "      <td>6</td>\n",
       "      <td>Monday</td>\n",
       "      <td>0</td>\n",
       "      <td>Part Three</td>\n",
       "      <td>NORFOLK ST</td>\n",
       "      <td>42.283634</td>\n",
       "      <td>-71.082813</td>\n",
       "      <td>(42.28363434, -71.08281320)</td>\n",
       "    </tr>\n",
       "    <tr>\n",
       "      <th>3</th>\n",
       "      <td>I152051083</td>\n",
       "      <td>3115</td>\n",
       "      <td>Investigate Person</td>\n",
       "      <td>INVESTIGATE PERSON</td>\n",
       "      <td>A7</td>\n",
       "      <td>20</td>\n",
       "      <td>NaN</td>\n",
       "      <td>2015-06-15 00:00:00</td>\n",
       "      <td>2015</td>\n",
       "      <td>6</td>\n",
       "      <td>Monday</td>\n",
       "      <td>0</td>\n",
       "      <td>Part Three</td>\n",
       "      <td>PARIS ST</td>\n",
       "      <td>42.377023</td>\n",
       "      <td>-71.032247</td>\n",
       "      <td>(42.37702319, -71.03224730)</td>\n",
       "    </tr>\n",
       "    <tr>\n",
       "      <th>4</th>\n",
       "      <td>I152059178</td>\n",
       "      <td>2647</td>\n",
       "      <td>Other</td>\n",
       "      <td>THREATS TO DO BODILY HARM</td>\n",
       "      <td>C11</td>\n",
       "      <td>359</td>\n",
       "      <td>NaN</td>\n",
       "      <td>2015-06-15 00:00:00</td>\n",
       "      <td>2015</td>\n",
       "      <td>6</td>\n",
       "      <td>Monday</td>\n",
       "      <td>0</td>\n",
       "      <td>Part Two</td>\n",
       "      <td>WASHINGTON ST</td>\n",
       "      <td>42.293606</td>\n",
       "      <td>-71.071887</td>\n",
       "      <td>(42.29360585, -71.07188650)</td>\n",
       "    </tr>\n",
       "  </tbody>\n",
       "</table>\n",
       "</div>"
      ],
      "text/plain": [
       "  INCIDENT_NUMBER  OFFENSE_CODE  OFFENSE_CODE_GROUP  \\\n",
       "0      I172040657          2629          Harassment   \n",
       "1      I182061268          3201       Property Lost   \n",
       "2      I162013546          3201       Property Lost   \n",
       "3      I152051083          3115  Investigate Person   \n",
       "4      I152059178          2647               Other   \n",
       "\n",
       "         OFFENSE_DESCRIPTION DISTRICT REPORTING_AREA SHOOTING  \\\n",
       "0                 HARASSMENT      C11            397      NaN   \n",
       "1            PROPERTY - LOST      NaN                     NaN   \n",
       "2            PROPERTY - LOST       B3            433      NaN   \n",
       "3         INVESTIGATE PERSON       A7             20      NaN   \n",
       "4  THREATS TO DO BODILY HARM      C11            359      NaN   \n",
       "\n",
       "      OCCURRED_ON_DATE  YEAR  MONTH DAY_OF_WEEK  HOUR    UCR_PART  \\\n",
       "0  2015-06-15 00:00:00  2015      6      Monday     0    Part Two   \n",
       "1  2015-06-15 00:00:00  2015      6      Monday     0  Part Three   \n",
       "2  2015-06-15 00:00:00  2015      6      Monday     0  Part Three   \n",
       "3  2015-06-15 00:00:00  2015      6      Monday     0  Part Three   \n",
       "4  2015-06-15 00:00:00  2015      6      Monday     0    Part Two   \n",
       "\n",
       "          STREET        Lat       Long                     Location  \n",
       "0   MELBOURNE ST  42.291093 -71.065945  (42.29109287, -71.06594539)  \n",
       "1        BERNARD        NaN        NaN                          NaN  \n",
       "2     NORFOLK ST  42.283634 -71.082813  (42.28363434, -71.08281320)  \n",
       "3       PARIS ST  42.377023 -71.032247  (42.37702319, -71.03224730)  \n",
       "4  WASHINGTON ST  42.293606 -71.071887  (42.29360585, -71.07188650)  "
      ]
     },
     "execution_count": 155,
     "metadata": {},
     "output_type": "execute_result"
    }
   ],
   "source": [
    "df.head()"
   ]
  },
  {
   "cell_type": "code",
   "execution_count": 156,
   "metadata": {},
   "outputs": [
    {
     "name": "stdout",
     "output_type": "stream",
     "text": [
      "<class 'pandas.core.frame.DataFrame'>\n",
      "RangeIndex: 53597 entries, 0 to 53596\n",
      "Data columns (total 17 columns):\n",
      " #   Column               Non-Null Count  Dtype  \n",
      "---  ------               --------------  -----  \n",
      " 0   INCIDENT_NUMBER      53597 non-null  object \n",
      " 1   OFFENSE_CODE         53597 non-null  int64  \n",
      " 2   OFFENSE_CODE_GROUP   53597 non-null  object \n",
      " 3   OFFENSE_DESCRIPTION  53597 non-null  object \n",
      " 4   DISTRICT             53468 non-null  object \n",
      " 5   REPORTING_AREA       53597 non-null  object \n",
      " 6   SHOOTING             251 non-null    object \n",
      " 7   OCCURRED_ON_DATE     53597 non-null  object \n",
      " 8   YEAR                 53597 non-null  int64  \n",
      " 9   MONTH                53597 non-null  int64  \n",
      " 10  DAY_OF_WEEK          53597 non-null  object \n",
      " 11  HOUR                 53597 non-null  int64  \n",
      " 12  UCR_PART             53595 non-null  object \n",
      " 13  STREET               52325 non-null  object \n",
      " 14  Lat                  51425 non-null  float64\n",
      " 15  Long                 51425 non-null  float64\n",
      " 16  Location             51425 non-null  object \n",
      "dtypes: float64(2), int64(4), object(11)\n",
      "memory usage: 7.0+ MB\n"
     ]
    }
   ],
   "source": [
    "df.info()"
   ]
  },
  {
   "attachments": {},
   "cell_type": "markdown",
   "metadata": {},
   "source": [
    "##### Menampilkan baris yang terduplikat"
   ]
  },
  {
   "cell_type": "code",
   "execution_count": 157,
   "metadata": {},
   "outputs": [
    {
     "data": {
      "text/html": [
       "<div>\n",
       "<style scoped>\n",
       "    .dataframe tbody tr th:only-of-type {\n",
       "        vertical-align: middle;\n",
       "    }\n",
       "\n",
       "    .dataframe tbody tr th {\n",
       "        vertical-align: top;\n",
       "    }\n",
       "\n",
       "    .dataframe thead th {\n",
       "        text-align: right;\n",
       "    }\n",
       "</style>\n",
       "<table border=\"1\" class=\"dataframe\">\n",
       "  <thead>\n",
       "    <tr style=\"text-align: right;\">\n",
       "      <th></th>\n",
       "      <th>INCIDENT_NUMBER</th>\n",
       "      <th>OFFENSE_CODE</th>\n",
       "      <th>OFFENSE_CODE_GROUP</th>\n",
       "      <th>OFFENSE_DESCRIPTION</th>\n",
       "      <th>DISTRICT</th>\n",
       "      <th>REPORTING_AREA</th>\n",
       "      <th>SHOOTING</th>\n",
       "      <th>OCCURRED_ON_DATE</th>\n",
       "      <th>YEAR</th>\n",
       "      <th>MONTH</th>\n",
       "      <th>DAY_OF_WEEK</th>\n",
       "      <th>HOUR</th>\n",
       "      <th>UCR_PART</th>\n",
       "      <th>STREET</th>\n",
       "      <th>Lat</th>\n",
       "      <th>Long</th>\n",
       "      <th>Location</th>\n",
       "    </tr>\n",
       "  </thead>\n",
       "  <tbody>\n",
       "    <tr>\n",
       "      <th>388</th>\n",
       "      <td>I140056633-00</td>\n",
       "      <td>2910</td>\n",
       "      <td>Violations</td>\n",
       "      <td>VAL - OPERATING AFTER REV/SUSP.</td>\n",
       "      <td>A1</td>\n",
       "      <td>64</td>\n",
       "      <td>NaN</td>\n",
       "      <td>2015-06-16 15:55:00</td>\n",
       "      <td>2015</td>\n",
       "      <td>6</td>\n",
       "      <td>Tuesday</td>\n",
       "      <td>15</td>\n",
       "      <td>Part Two</td>\n",
       "      <td>FRUIT ST</td>\n",
       "      <td>42.362403</td>\n",
       "      <td>-71.069547</td>\n",
       "      <td>(42.36240281, -71.06954652)</td>\n",
       "    </tr>\n",
       "    <tr>\n",
       "      <th>389</th>\n",
       "      <td>I142017108-00</td>\n",
       "      <td>1841</td>\n",
       "      <td>Drug Violation</td>\n",
       "      <td>DRUGS - POSS CLASS A - INTENT TO MFR DIST DISP</td>\n",
       "      <td>A1</td>\n",
       "      <td>64</td>\n",
       "      <td>NaN</td>\n",
       "      <td>2015-06-16 15:55:00</td>\n",
       "      <td>2015</td>\n",
       "      <td>6</td>\n",
       "      <td>Tuesday</td>\n",
       "      <td>15</td>\n",
       "      <td>Part Two</td>\n",
       "      <td>FRUIT ST</td>\n",
       "      <td>42.362403</td>\n",
       "      <td>-71.069547</td>\n",
       "      <td>(42.36240281, -71.06954652)</td>\n",
       "    </tr>\n",
       "    <tr>\n",
       "      <th>390</th>\n",
       "      <td>I142017108-00</td>\n",
       "      <td>1841</td>\n",
       "      <td>Drug Violation</td>\n",
       "      <td>DRUGS - POSS CLASS A - INTENT TO MFR DIST DISP</td>\n",
       "      <td>A1</td>\n",
       "      <td>64</td>\n",
       "      <td>NaN</td>\n",
       "      <td>2015-06-16 15:55:00</td>\n",
       "      <td>2015</td>\n",
       "      <td>6</td>\n",
       "      <td>Tuesday</td>\n",
       "      <td>15</td>\n",
       "      <td>Part Two</td>\n",
       "      <td>FRUIT ST</td>\n",
       "      <td>42.362403</td>\n",
       "      <td>-71.069547</td>\n",
       "      <td>(42.36240281, -71.06954652)</td>\n",
       "    </tr>\n",
       "    <tr>\n",
       "      <th>391</th>\n",
       "      <td>I142017108-00</td>\n",
       "      <td>1841</td>\n",
       "      <td>Drug Violation</td>\n",
       "      <td>DRUGS - POSS CLASS A - INTENT TO MFR DIST DISP</td>\n",
       "      <td>A1</td>\n",
       "      <td>64</td>\n",
       "      <td>NaN</td>\n",
       "      <td>2015-06-16 15:55:00</td>\n",
       "      <td>2015</td>\n",
       "      <td>6</td>\n",
       "      <td>Tuesday</td>\n",
       "      <td>15</td>\n",
       "      <td>Part Two</td>\n",
       "      <td>FRUIT ST</td>\n",
       "      <td>42.362403</td>\n",
       "      <td>-71.069547</td>\n",
       "      <td>(42.36240281, -71.06954652)</td>\n",
       "    </tr>\n",
       "    <tr>\n",
       "      <th>392</th>\n",
       "      <td>I142017108-00</td>\n",
       "      <td>1841</td>\n",
       "      <td>Drug Violation</td>\n",
       "      <td>DRUGS - POSS CLASS A - INTENT TO MFR DIST DISP</td>\n",
       "      <td>A1</td>\n",
       "      <td>64</td>\n",
       "      <td>NaN</td>\n",
       "      <td>2015-06-16 15:55:00</td>\n",
       "      <td>2015</td>\n",
       "      <td>6</td>\n",
       "      <td>Tuesday</td>\n",
       "      <td>15</td>\n",
       "      <td>Part Two</td>\n",
       "      <td>FRUIT ST</td>\n",
       "      <td>42.362403</td>\n",
       "      <td>-71.069547</td>\n",
       "      <td>(42.36240281, -71.06954652)</td>\n",
       "    </tr>\n",
       "    <tr>\n",
       "      <th>...</th>\n",
       "      <td>...</td>\n",
       "      <td>...</td>\n",
       "      <td>...</td>\n",
       "      <td>...</td>\n",
       "      <td>...</td>\n",
       "      <td>...</td>\n",
       "      <td>...</td>\n",
       "      <td>...</td>\n",
       "      <td>...</td>\n",
       "      <td>...</td>\n",
       "      <td>...</td>\n",
       "      <td>...</td>\n",
       "      <td>...</td>\n",
       "      <td>...</td>\n",
       "      <td>...</td>\n",
       "      <td>...</td>\n",
       "      <td>...</td>\n",
       "    </tr>\n",
       "    <tr>\n",
       "      <th>51749</th>\n",
       "      <td>I152105851</td>\n",
       "      <td>413</td>\n",
       "      <td>Aggravated Assault</td>\n",
       "      <td>ASSAULT - AGGRAVATED - BATTERY</td>\n",
       "      <td>E13</td>\n",
       "      <td>302</td>\n",
       "      <td>Y</td>\n",
       "      <td>2015-12-23 15:39:00</td>\n",
       "      <td>2015</td>\n",
       "      <td>12</td>\n",
       "      <td>Wednesday</td>\n",
       "      <td>15</td>\n",
       "      <td>Part One</td>\n",
       "      <td>CENTRE ST</td>\n",
       "      <td>42.322838</td>\n",
       "      <td>-71.100967</td>\n",
       "      <td>(42.32283759, -71.10096723)</td>\n",
       "    </tr>\n",
       "    <tr>\n",
       "      <th>52927</th>\n",
       "      <td>I152107190</td>\n",
       "      <td>1501</td>\n",
       "      <td>Firearm Violations</td>\n",
       "      <td>WEAPON - FIREARM - CARRYING / POSSESSING, ETC</td>\n",
       "      <td>B3</td>\n",
       "      <td>427</td>\n",
       "      <td>Y</td>\n",
       "      <td>2015-12-29 08:47:00</td>\n",
       "      <td>2015</td>\n",
       "      <td>12</td>\n",
       "      <td>Tuesday</td>\n",
       "      <td>8</td>\n",
       "      <td>Part Two</td>\n",
       "      <td>WILMORE ST</td>\n",
       "      <td>42.277964</td>\n",
       "      <td>-71.092463</td>\n",
       "      <td>(42.27796370, -71.09246318)</td>\n",
       "    </tr>\n",
       "    <tr>\n",
       "      <th>52928</th>\n",
       "      <td>I152107190</td>\n",
       "      <td>413</td>\n",
       "      <td>Aggravated Assault</td>\n",
       "      <td>ASSAULT - AGGRAVATED - BATTERY</td>\n",
       "      <td>B3</td>\n",
       "      <td>427</td>\n",
       "      <td>Y</td>\n",
       "      <td>2015-12-29 08:47:00</td>\n",
       "      <td>2015</td>\n",
       "      <td>12</td>\n",
       "      <td>Tuesday</td>\n",
       "      <td>8</td>\n",
       "      <td>Part One</td>\n",
       "      <td>WILMORE ST</td>\n",
       "      <td>42.277964</td>\n",
       "      <td>-71.092463</td>\n",
       "      <td>(42.27796370, -71.09246318)</td>\n",
       "    </tr>\n",
       "    <tr>\n",
       "      <th>52930</th>\n",
       "      <td>I152107190</td>\n",
       "      <td>111</td>\n",
       "      <td>Homicide</td>\n",
       "      <td>MURDER, NON-NEGLIGIENT MANSLAUGHTER</td>\n",
       "      <td>B3</td>\n",
       "      <td>427</td>\n",
       "      <td>Y</td>\n",
       "      <td>2015-12-29 08:47:00</td>\n",
       "      <td>2015</td>\n",
       "      <td>12</td>\n",
       "      <td>Tuesday</td>\n",
       "      <td>8</td>\n",
       "      <td>Part One</td>\n",
       "      <td>WILMORE ST</td>\n",
       "      <td>42.277964</td>\n",
       "      <td>-71.092463</td>\n",
       "      <td>(42.27796370, -71.09246318)</td>\n",
       "    </tr>\n",
       "    <tr>\n",
       "      <th>52932</th>\n",
       "      <td>I152107190</td>\n",
       "      <td>3125</td>\n",
       "      <td>Warrant Arrests</td>\n",
       "      <td>WARRANT ARREST</td>\n",
       "      <td>B3</td>\n",
       "      <td>427</td>\n",
       "      <td>Y</td>\n",
       "      <td>2015-12-29 08:47:00</td>\n",
       "      <td>2015</td>\n",
       "      <td>12</td>\n",
       "      <td>Tuesday</td>\n",
       "      <td>8</td>\n",
       "      <td>Part Three</td>\n",
       "      <td>WILMORE ST</td>\n",
       "      <td>42.277964</td>\n",
       "      <td>-71.092463</td>\n",
       "      <td>(42.27796370, -71.09246318)</td>\n",
       "    </tr>\n",
       "  </tbody>\n",
       "</table>\n",
       "<p>193 rows × 17 columns</p>\n",
       "</div>"
      ],
      "text/plain": [
       "      INCIDENT_NUMBER  OFFENSE_CODE  OFFENSE_CODE_GROUP  \\\n",
       "388     I140056633-00          2910          Violations   \n",
       "389     I142017108-00          1841      Drug Violation   \n",
       "390     I142017108-00          1841      Drug Violation   \n",
       "391     I142017108-00          1841      Drug Violation   \n",
       "392     I142017108-00          1841      Drug Violation   \n",
       "...               ...           ...                 ...   \n",
       "51749      I152105851           413  Aggravated Assault   \n",
       "52927      I152107190          1501  Firearm Violations   \n",
       "52928      I152107190           413  Aggravated Assault   \n",
       "52930      I152107190           111            Homicide   \n",
       "52932      I152107190          3125     Warrant Arrests   \n",
       "\n",
       "                                  OFFENSE_DESCRIPTION DISTRICT REPORTING_AREA  \\\n",
       "388                   VAL - OPERATING AFTER REV/SUSP.       A1             64   \n",
       "389    DRUGS - POSS CLASS A - INTENT TO MFR DIST DISP       A1             64   \n",
       "390    DRUGS - POSS CLASS A - INTENT TO MFR DIST DISP       A1             64   \n",
       "391    DRUGS - POSS CLASS A - INTENT TO MFR DIST DISP       A1             64   \n",
       "392    DRUGS - POSS CLASS A - INTENT TO MFR DIST DISP       A1             64   \n",
       "...                                               ...      ...            ...   \n",
       "51749                  ASSAULT - AGGRAVATED - BATTERY      E13            302   \n",
       "52927   WEAPON - FIREARM - CARRYING / POSSESSING, ETC       B3            427   \n",
       "52928                  ASSAULT - AGGRAVATED - BATTERY       B3            427   \n",
       "52930             MURDER, NON-NEGLIGIENT MANSLAUGHTER       B3            427   \n",
       "52932                                  WARRANT ARREST       B3            427   \n",
       "\n",
       "      SHOOTING     OCCURRED_ON_DATE  YEAR  MONTH DAY_OF_WEEK  HOUR  \\\n",
       "388        NaN  2015-06-16 15:55:00  2015      6     Tuesday    15   \n",
       "389        NaN  2015-06-16 15:55:00  2015      6     Tuesday    15   \n",
       "390        NaN  2015-06-16 15:55:00  2015      6     Tuesday    15   \n",
       "391        NaN  2015-06-16 15:55:00  2015      6     Tuesday    15   \n",
       "392        NaN  2015-06-16 15:55:00  2015      6     Tuesday    15   \n",
       "...        ...                  ...   ...    ...         ...   ...   \n",
       "51749        Y  2015-12-23 15:39:00  2015     12   Wednesday    15   \n",
       "52927        Y  2015-12-29 08:47:00  2015     12     Tuesday     8   \n",
       "52928        Y  2015-12-29 08:47:00  2015     12     Tuesday     8   \n",
       "52930        Y  2015-12-29 08:47:00  2015     12     Tuesday     8   \n",
       "52932        Y  2015-12-29 08:47:00  2015     12     Tuesday     8   \n",
       "\n",
       "         UCR_PART      STREET        Lat       Long  \\\n",
       "388      Part Two    FRUIT ST  42.362403 -71.069547   \n",
       "389      Part Two    FRUIT ST  42.362403 -71.069547   \n",
       "390      Part Two    FRUIT ST  42.362403 -71.069547   \n",
       "391      Part Two    FRUIT ST  42.362403 -71.069547   \n",
       "392      Part Two    FRUIT ST  42.362403 -71.069547   \n",
       "...           ...         ...        ...        ...   \n",
       "51749    Part One   CENTRE ST  42.322838 -71.100967   \n",
       "52927    Part Two  WILMORE ST  42.277964 -71.092463   \n",
       "52928    Part One  WILMORE ST  42.277964 -71.092463   \n",
       "52930    Part One  WILMORE ST  42.277964 -71.092463   \n",
       "52932  Part Three  WILMORE ST  42.277964 -71.092463   \n",
       "\n",
       "                          Location  \n",
       "388    (42.36240281, -71.06954652)  \n",
       "389    (42.36240281, -71.06954652)  \n",
       "390    (42.36240281, -71.06954652)  \n",
       "391    (42.36240281, -71.06954652)  \n",
       "392    (42.36240281, -71.06954652)  \n",
       "...                            ...  \n",
       "51749  (42.32283759, -71.10096723)  \n",
       "52927  (42.27796370, -71.09246318)  \n",
       "52928  (42.27796370, -71.09246318)  \n",
       "52930  (42.27796370, -71.09246318)  \n",
       "52932  (42.27796370, -71.09246318)  \n",
       "\n",
       "[193 rows x 17 columns]"
      ]
     },
     "execution_count": 157,
     "metadata": {},
     "output_type": "execute_result"
    }
   ],
   "source": [
    "df.loc[duplicates]"
   ]
  },
  {
   "attachments": {},
   "cell_type": "markdown",
   "metadata": {},
   "source": [
    "##### Mencari tahu variabel dan observasi"
   ]
  },
  {
   "cell_type": "code",
   "execution_count": 158,
   "metadata": {},
   "outputs": [
    {
     "data": {
      "text/plain": [
       "(53597, 17)"
      ]
     },
     "execution_count": 158,
     "metadata": {},
     "output_type": "execute_result"
    }
   ],
   "source": [
    "df.shape"
   ]
  },
  {
   "attachments": {},
   "cell_type": "markdown",
   "metadata": {},
   "source": [
    "##### Atasi duplikasi data sebanyak 193"
   ]
  },
  {
   "cell_type": "code",
   "execution_count": 159,
   "metadata": {},
   "outputs": [],
   "source": [
    "ap = df.drop_duplicates()\n"
   ]
  },
  {
   "cell_type": "code",
   "execution_count": 160,
   "metadata": {},
   "outputs": [
    {
     "data": {
      "text/plain": [
       "0"
      ]
     },
     "execution_count": 160,
     "metadata": {},
     "output_type": "execute_result"
    }
   ],
   "source": [
    "ap.duplicated().sum()"
   ]
  },
  {
   "attachments": {},
   "cell_type": "markdown",
   "metadata": {},
   "source": [
    "#### Cek data yang missing value"
   ]
  },
  {
   "cell_type": "code",
   "execution_count": 161,
   "metadata": {},
   "outputs": [
    {
     "data": {
      "text/plain": [
       "INCIDENT_NUMBER            0\n",
       "OFFENSE_CODE               0\n",
       "OFFENSE_CODE_GROUP         0\n",
       "OFFENSE_DESCRIPTION        0\n",
       "DISTRICT                 129\n",
       "REPORTING_AREA             0\n",
       "SHOOTING               53219\n",
       "OCCURRED_ON_DATE           0\n",
       "YEAR                       0\n",
       "MONTH                      0\n",
       "DAY_OF_WEEK                0\n",
       "HOUR                       0\n",
       "UCR_PART                   1\n",
       "STREET                  1268\n",
       "Lat                     2167\n",
       "Long                    2167\n",
       "Location                2167\n",
       "dtype: int64"
      ]
     },
     "execution_count": 161,
     "metadata": {},
     "output_type": "execute_result"
    }
   ],
   "source": [
    "ap.isna().sum()"
   ]
  },
  {
   "cell_type": "code",
   "execution_count": 162,
   "metadata": {},
   "outputs": [
    {
     "data": {
      "text/plain": [
       "INCIDENT_NUMBER            0\n",
       "OFFENSE_CODE               0\n",
       "OFFENSE_CODE_GROUP         0\n",
       "OFFENSE_DESCRIPTION        0\n",
       "DISTRICT                 129\n",
       "REPORTING_AREA             0\n",
       "SHOOTING               53219\n",
       "OCCURRED_ON_DATE           0\n",
       "YEAR                       0\n",
       "MONTH                      0\n",
       "DAY_OF_WEEK                0\n",
       "HOUR                       0\n",
       "UCR_PART                   1\n",
       "STREET                  1268\n",
       "Lat                     2167\n",
       "Long                    2167\n",
       "Location                2167\n",
       "dtype: int64"
      ]
     },
     "execution_count": 162,
     "metadata": {},
     "output_type": "execute_result"
    }
   ],
   "source": [
    "ap.isnull().sum()"
   ]
  },
  {
   "cell_type": "code",
   "execution_count": 163,
   "metadata": {},
   "outputs": [],
   "source": [
    "ap.dropna(subset=['DISTRICT','SHOOTING','STREET','Lat','Long','Location'], inplace=True)"
   ]
  },
  {
   "cell_type": "code",
   "execution_count": 164,
   "metadata": {},
   "outputs": [
    {
     "data": {
      "text/plain": [
       "INCIDENT_NUMBER        0\n",
       "OFFENSE_CODE           0\n",
       "OFFENSE_CODE_GROUP     0\n",
       "OFFENSE_DESCRIPTION    0\n",
       "DISTRICT               0\n",
       "REPORTING_AREA         0\n",
       "SHOOTING               0\n",
       "OCCURRED_ON_DATE       0\n",
       "YEAR                   0\n",
       "MONTH                  0\n",
       "DAY_OF_WEEK            0\n",
       "HOUR                   0\n",
       "UCR_PART               0\n",
       "STREET                 0\n",
       "Lat                    0\n",
       "Long                   0\n",
       "Location               0\n",
       "dtype: int64"
      ]
     },
     "execution_count": 164,
     "metadata": {},
     "output_type": "execute_result"
    }
   ],
   "source": [
    "ap.isnull().sum()"
   ]
  },
  {
   "attachments": {},
   "cell_type": "markdown",
   "metadata": {},
   "source": [
    "##### Outlier"
   ]
  },
  {
   "cell_type": "code",
   "execution_count": 167,
   "metadata": {},
   "outputs": [
    {
     "data": {
      "text/plain": [
       "Index(['INCIDENT_NUMBER', 'OFFENSE_CODE', 'OFFENSE_CODE_GROUP',\n",
       "       'OFFENSE_DESCRIPTION', 'DISTRICT', 'REPORTING_AREA', 'SHOOTING',\n",
       "       'OCCURRED_ON_DATE', 'YEAR', 'MONTH', 'DAY_OF_WEEK', 'HOUR', 'UCR_PART',\n",
       "       'STREET', 'Lat', 'Long', 'Location'],\n",
       "      dtype='object')"
      ]
     },
     "execution_count": 167,
     "metadata": {},
     "output_type": "execute_result"
    }
   ],
   "source": [
    "ap.columns"
   ]
  },
  {
   "cell_type": "code",
   "execution_count": 171,
   "metadata": {},
   "outputs": [],
   "source": [
    "df_to_plot = df.select_dtypes(include=['float',int])\n",
    "df_to_plot.drop(columns=['OFFENSE_CODE','Lat','Long'],\n",
    "                      inplace=True)"
   ]
  },
  {
   "cell_type": "code",
   "execution_count": 172,
   "metadata": {},
   "outputs": [
    {
     "data": {
      "image/png": "[encoded data removed]",
      "text/plain": [
       "<Figure size 1200x1400 with 16 Axes>"
      ]
     },
     "metadata": {},
     "output_type": "display_data"
    }
   ],
   "source": [
    "df_to_plot.plot(subplots=True, layout=(4,4), kind='box', figsize=(12,14))\n",
    "plt.subplots_adjust(wspace=0.5)"
   ]
  },
  {
   "cell_type": "code",
   "execution_count": 173,
   "metadata": {},
   "outputs": [
    {
     "data": {
      "text/plain": [
       "Index(['YEAR', 'MONTH', 'HOUR'], dtype='object')"
      ]
     },
     "execution_count": 173,
     "metadata": {},
     "output_type": "execute_result"
    }
   ],
   "source": [
    "numeric = df_to_plot.columns\n",
    "numeric"
   ]
  },
  {
   "cell_type": "code",
   "execution_count": 174,
   "metadata": {},
   "outputs": [
    {
     "data": {
      "image/png": "[encoded data removed]",
      "text/plain": [
       "<Figure size 1500x1000 with 16 Axes>"
      ]
     },
     "metadata": {},
     "output_type": "display_data"
    }
   ],
   "source": [
    "fig = plt.figure(figsize=(15,10))\n",
    "ax = plt.gca()\n",
    "\n",
    "df.hist(bins=50, ax=ax, layout=(4,4), column=numeric)\n",
    "plt.tight_layout()\n",
    "plt.show()"
   ]
  },
  {
   "cell_type": "code",
   "execution_count": null,
   "metadata": {},
   "outputs": [],
   "source": []
  }
 ],
 "metadata": {
  "kernelspec": {
   "display_name": "tf",
   "language": "python",
   "name": "python3"
  },
  "language_info": {
   "codemirror_mode": {
    "name": "ipython",
    "version": 3
   },
   "file_extension": ".py",
   "mimetype": "text/x-python",
   "name": "python",
   "nbconvert_exporter": "python",
   "pygments_lexer": "ipython3",
   "version": "3.7.13"
  },
  "orig_nbformat": 4,
  "vscode": {
   "interpreter": {
    "hash": "5b44144d3488447681b12c5cd11c1b63a7af659080860546ab19e922ec4c335a"
   }
  }
 },
 "nbformat": 4,
 "nbformat_minor": 2
}
